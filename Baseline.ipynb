{
 "cells": [
  {
   "cell_type": "code",
   "execution_count": 1,
   "metadata": {
    "colab": {},
    "colab_type": "code",
    "id": "hnCctb2cBC4l"
   },
   "outputs": [],
   "source": [
    "import numpy as np # linear algebra\n",
    "import pandas as pd # data processing, CSV file I/O (e.g. pd.read_csv)\n",
    "\n",
    "# Input data files are available in the \"../input/\" directory.\n",
    "# For example, running this (by clicking run or pressing Shift+Enter) will list the files in the input directory\n",
    "\n",
    "\n"
   ]
  },
  {
   "cell_type": "code",
   "execution_count": 2,
   "metadata": {
    "colab": {
     "base_uri": "https://localhost:8080/",
     "height": 581
    },
    "colab_type": "code",
    "id": "_jFmtqb-DwGz",
    "outputId": "130dd460-2bd7-470a-cfb8-51cb87f73a3e"
   },
   "outputs": [
    {
     "name": "stdout",
     "output_type": "stream",
     "text": [
      "Requirement already satisfied: wfdb in /Library/Frameworks/Python.framework/Versions/3.6/lib/python3.6/site-packages (2.2.1)\n",
      "Requirement already satisfied: nose>=1.3.7 in /Library/Frameworks/Python.framework/Versions/3.6/lib/python3.6/site-packages (from wfdb) (1.3.7)\n",
      "Requirement already satisfied: numpy>=1.11.0 in /Library/Frameworks/Python.framework/Versions/3.6/lib/python3.6/site-packages (from wfdb) (1.17.2)\n",
      "Requirement already satisfied: matplotlib>=1.5.1 in /Library/Frameworks/Python.framework/Versions/3.6/lib/python3.6/site-packages (from wfdb) (3.1.1)\n",
      "Requirement already satisfied: requests>=2.10.0 in /Library/Frameworks/Python.framework/Versions/3.6/lib/python3.6/site-packages (from wfdb) (2.22.0)\n",
      "Requirement already satisfied: pandas>=0.19.1 in /Library/Frameworks/Python.framework/Versions/3.6/lib/python3.6/site-packages (from wfdb) (0.25.1)\n",
      "Requirement already satisfied: scipy>=0.19.0 in /Library/Frameworks/Python.framework/Versions/3.6/lib/python3.6/site-packages (from wfdb) (1.4.1)\n",
      "Requirement already satisfied: sklearn>=0.0 in /Library/Frameworks/Python.framework/Versions/3.6/lib/python3.6/site-packages (from wfdb) (0.0)\n",
      "Requirement already satisfied: kiwisolver>=1.0.1 in /Library/Frameworks/Python.framework/Versions/3.6/lib/python3.6/site-packages (from matplotlib>=1.5.1->wfdb) (1.1.0)\n",
      "Requirement already satisfied: python-dateutil>=2.1 in /Library/Frameworks/Python.framework/Versions/3.6/lib/python3.6/site-packages (from matplotlib>=1.5.1->wfdb) (2.8.0)\n",
      "Requirement already satisfied: cycler>=0.10 in /Library/Frameworks/Python.framework/Versions/3.6/lib/python3.6/site-packages (from matplotlib>=1.5.1->wfdb) (0.10.0)\n",
      "Requirement already satisfied: pyparsing!=2.0.4,!=2.1.2,!=2.1.6,>=2.0.1 in /Library/Frameworks/Python.framework/Versions/3.6/lib/python3.6/site-packages (from matplotlib>=1.5.1->wfdb) (2.4.2)\n",
      "Requirement already satisfied: chardet<3.1.0,>=3.0.2 in /Library/Frameworks/Python.framework/Versions/3.6/lib/python3.6/site-packages (from requests>=2.10.0->wfdb) (3.0.4)\n",
      "Requirement already satisfied: idna<2.9,>=2.5 in /Library/Frameworks/Python.framework/Versions/3.6/lib/python3.6/site-packages (from requests>=2.10.0->wfdb) (2.8)\n",
      "Requirement already satisfied: certifi>=2017.4.17 in /Library/Frameworks/Python.framework/Versions/3.6/lib/python3.6/site-packages (from requests>=2.10.0->wfdb) (2019.9.11)\n",
      "Requirement already satisfied: urllib3!=1.25.0,!=1.25.1,<1.26,>=1.21.1 in /Library/Frameworks/Python.framework/Versions/3.6/lib/python3.6/site-packages (from requests>=2.10.0->wfdb) (1.25.6)\n",
      "Requirement already satisfied: pytz>=2017.2 in /Library/Frameworks/Python.framework/Versions/3.6/lib/python3.6/site-packages (from pandas>=0.19.1->wfdb) (2019.2)\n",
      "Requirement already satisfied: scikit-learn in /Library/Frameworks/Python.framework/Versions/3.6/lib/python3.6/site-packages (from sklearn>=0.0->wfdb) (0.21.3)\n",
      "Requirement already satisfied: setuptools in /Library/Frameworks/Python.framework/Versions/3.6/lib/python3.6/site-packages (from kiwisolver>=1.0.1->matplotlib>=1.5.1->wfdb) (45.2.0)\n",
      "Requirement already satisfied: six>=1.5 in /Library/Frameworks/Python.framework/Versions/3.6/lib/python3.6/site-packages (from python-dateutil>=2.1->matplotlib>=1.5.1->wfdb) (1.12.0)\n",
      "Requirement already satisfied: joblib>=0.11 in /Library/Frameworks/Python.framework/Versions/3.6/lib/python3.6/site-packages (from scikit-learn->sklearn>=0.0->wfdb) (0.13.2)\n",
      "\u001b[33mWARNING: You are using pip version 19.2.3, however version 20.0.2 is available.\n",
      "You should consider upgrading via the 'pip install --upgrade pip' command.\u001b[0m\n"
     ]
    }
   ],
   "source": [
    "!pip3 install wfdb"
   ]
  },
  {
   "cell_type": "code",
   "execution_count": 3,
   "metadata": {
    "colab": {},
    "colab_type": "code",
    "id": "z5n94ksjBC4t"
   },
   "outputs": [],
   "source": [
    "import wfdb\n",
    "import matplotlib.pyplot as plt"
   ]
  },
  {
   "cell_type": "code",
   "execution_count": 4,
   "metadata": {
    "colab": {},
    "colab_type": "code",
    "id": "Mub7A4yYNc_Z"
   },
   "outputs": [],
   "source": [
    "import glob"
   ]
  },
  {
   "cell_type": "code",
   "execution_count": 24,
   "metadata": {},
   "outputs": [],
   "source": [
    "recordname = \"/Users/ishaan28/Downloads/apnea-ecg-database-1.0.0/\"\n",
    "annotationsDir = \"/Users/ishaan28/Desktop/GitHub/sleep_apnea/data/interpreted-annotations/\""
   ]
  },
  {
   "cell_type": "code",
   "execution_count": 25,
   "metadata": {
    "colab": {
     "base_uri": "https://localhost:8080/",
     "height": 361
    },
    "colab_type": "code",
    "id": "w0UH7RU1KQ47",
    "outputId": "9ef0fe5c-0468-450b-c467-c3cbe99a990e"
   },
   "outputs": [],
   "source": [
    "def record_locater(record_id):\n",
    "  return recordname + record_id\n",
    "\n",
    "record = wfdb.rdsamp(record_locater(\"a04\"))"
   ]
  },
  {
   "cell_type": "code",
   "execution_count": 26,
   "metadata": {
    "colab": {},
    "colab_type": "code",
    "id": "XYLGVFiqBC4z"
   },
   "outputs": [
    {
     "data": {
      "text/plain": [
       "Text(0, 0.5, 'ECG (mV)')"
      ]
     },
     "execution_count": 26,
     "metadata": {},
     "output_type": "execute_result"
    },
    {
     "data": {
      "image/png": "[encoded data removed]",
      "text/plain": [
       "<Figure size 432x288 with 1 Axes>"
      ]
     },
     "metadata": {
      "needs_background": "light"
     },
     "output_type": "display_data"
    }
   ],
   "source": [
    "plt.plot(record[0][213000:220000],'r')\n",
    "plt.title(\"Sleep Apnea ECG in record a04\", fontsize=16)\n",
    "plt.xlabel(\"Time/Sample\", fontsize=12)\n",
    "plt.ylabel(\"ECG (mV)\",fontsize=12)"
   ]
  },
  {
   "cell_type": "code",
   "execution_count": 27,
   "metadata": {
    "colab": {},
    "colab_type": "code",
    "id": "p1KSh699HEHo"
   },
   "outputs": [
    {
     "name": "stdout",
     "output_type": "stream",
     "text": [
      "{'fs': 100, 'sig_len': 2980000, 'n_sig': 1, 'base_date': None, 'base_time': None, 'units': ['mV'], 'sig_name': ['ECG'], 'comments': []}\n"
     ]
    }
   ],
   "source": [
    "print(record[1])"
   ]
  },
  {
   "cell_type": "code",
   "execution_count": 28,
   "metadata": {
    "colab": {},
    "colab_type": "code",
    "id": "GebSck4qGk7u"
   },
   "outputs": [],
   "source": [
    "def spilt_data(record):\n",
    "  splitarray = []\n",
    "  count = 0\n",
    "  for x in range(len(record[0])):\n",
    "    if(count+25000 > len(record[0])):\n",
    "      splitarray.append(record[0][count:])\n",
    "    else:\n",
    "      splitarray.append(record[0][count:count+25000])\n",
    "    count += 25000"
   ]
  },
  {
   "cell_type": "code",
   "execution_count": 29,
   "metadata": {
    "colab": {},
    "colab_type": "code",
    "id": "zSUIhdtgBC42"
   },
   "outputs": [
    {
     "data": {
      "text/plain": [
       "Text(0, 0.5, 'ECG (mV)')"
      ]
     },
     "execution_count": 29,
     "metadata": {},
     "output_type": "execute_result"
    },
    {
     "data": {
      "image/png": "[encoded data removed]",
      "text/plain": [
       "<Figure size 432x288 with 1 Axes>"
      ]
     },
     "metadata": {
      "needs_background": "light"
     },
     "output_type": "display_data"
    }
   ],
   "source": [
    "plt.plot(record[0][4000:6000],'b')\n",
    "plt.title(\"Regular ECG in record a04\", fontsize=16)\n",
    "plt.xlabel(\"Time/Sample\", fontsize=12)\n",
    "plt.ylabel(\"ECG (mV)\",fontsize=12)\n"
   ]
  },
  {
   "cell_type": "code",
   "execution_count": 40,
   "metadata": {
    "colab": {
     "base_uri": "https://localhost:8080/",
     "height": 34
    },
    "colab_type": "code",
    "id": "n3u7wYZcBC45",
    "outputId": "81cf484c-befd-4ee1-e7c8-77f05e4d2056"
   },
   "outputs": [
    {
     "name": "stdout",
     "output_type": "stream",
     "text": [
      "['/Users/ishaan28/Desktop/GitHub/sleep_apnea/data/interpreted-annotations/a18.txt', '/Users/ishaan28/Desktop/GitHub/sleep_apnea/data/interpreted-annotations/a19.txt', '/Users/ishaan28/Desktop/GitHub/sleep_apnea/data/interpreted-annotations/c08.txt', '/Users/ishaan28/Desktop/GitHub/sleep_apnea/data/interpreted-annotations/c09.txt', '/Users/ishaan28/Desktop/GitHub/sleep_apnea/data/interpreted-annotations/a09.txt', '/Users/ishaan28/Desktop/GitHub/sleep_apnea/data/interpreted-annotations/a08.txt', '/Users/ishaan28/Desktop/GitHub/sleep_apnea/data/interpreted-annotations/a20.txt', '/Users/ishaan28/Desktop/GitHub/sleep_apnea/data/interpreted-annotations/a11.txt', '/Users/ishaan28/Desktop/GitHub/sleep_apnea/data/interpreted-annotations/a05.txt', '/Users/ishaan28/Desktop/GitHub/sleep_apnea/data/interpreted-annotations/c07.txt', '/Users/ishaan28/Desktop/GitHub/sleep_apnea/data/interpreted-annotations/c06.txt', '/Users/ishaan28/Desktop/GitHub/sleep_apnea/data/interpreted-annotations/a04.txt', '/Users/ishaan28/Desktop/GitHub/sleep_apnea/data/interpreted-annotations/a10.txt', '/Users/ishaan28/Desktop/GitHub/sleep_apnea/data/interpreted-annotations/a06.txt', '/Users/ishaan28/Desktop/GitHub/sleep_apnea/data/interpreted-annotations/a12.txt', '/Users/ishaan28/Desktop/GitHub/sleep_apnea/data/interpreted-annotations/c04.txt', '/Users/ishaan28/Desktop/GitHub/sleep_apnea/data/interpreted-annotations/c10.txt', '/Users/ishaan28/Desktop/GitHub/sleep_apnea/data/interpreted-annotations/c05.txt', '/Users/ishaan28/Desktop/GitHub/sleep_apnea/data/interpreted-annotations/a13.txt', '/Users/ishaan28/Desktop/GitHub/sleep_apnea/data/interpreted-annotations/a07.txt', '/Users/ishaan28/Desktop/GitHub/sleep_apnea/data/interpreted-annotations/a03.txt', '/Users/ishaan28/Desktop/GitHub/sleep_apnea/data/interpreted-annotations/a17.txt', '/Users/ishaan28/Desktop/GitHub/sleep_apnea/data/interpreted-annotations/c01.txt', '/Users/ishaan28/Desktop/GitHub/sleep_apnea/data/interpreted-annotations/a16.txt', '/Users/ishaan28/Desktop/GitHub/sleep_apnea/data/interpreted-annotations/a02.txt', '/Users/ishaan28/Desktop/GitHub/sleep_apnea/data/interpreted-annotations/a14.txt', '/Users/ishaan28/Desktop/GitHub/sleep_apnea/data/interpreted-annotations/c02.txt', '/Users/ishaan28/Desktop/GitHub/sleep_apnea/data/interpreted-annotations/c03.txt', '/Users/ishaan28/Desktop/GitHub/sleep_apnea/data/interpreted-annotations/a01.txt', '/Users/ishaan28/Desktop/GitHub/sleep_apnea/data/interpreted-annotations/a15.txt', '/Users/ishaan28/Desktop/GitHub/sleep_apnea/data/interpreted-annotations/b04.txt', '/Users/ishaan28/Desktop/GitHub/sleep_apnea/data/interpreted-annotations/b05.txt', '/Users/ishaan28/Desktop/GitHub/sleep_apnea/data/interpreted-annotations/b02.txt', '/Users/ishaan28/Desktop/GitHub/sleep_apnea/data/interpreted-annotations/b03.txt', '/Users/ishaan28/Desktop/GitHub/sleep_apnea/data/interpreted-annotations/b01.txt']\n"
     ]
    }
   ],
   "source": [
    "def mapAnnotation():\n",
    "  annotations = glob.glob(annotationsDir + '*.txt')\n",
    "  print(annotations)\n",
    "mapAnnotation()"
   ]
  },
  {
   "cell_type": "code",
   "execution_count": 38,
   "metadata": {
    "colab": {},
    "colab_type": "code",
    "id": "rLn2x55YJjFA"
   },
   "outputs": [],
   "source": [
    "def split_annotations(record):\n",
    "  splitannotations = []\n",
    "  count = 0\n",
    "  for x in range(len(annotation)):\n",
    "    if(count+25000 > len(annotation)):\n",
    "      splitannotations.append(annotation[count:])\n",
    "    else:\n",
    "      splitannotations.append(annotation[count:count+25000])\n",
    "    count += 25000"
   ]
  },
  {
   "cell_type": "code",
   "execution_count": 39,
   "metadata": {
    "colab": {},
    "colab_type": "code",
    "id": "uaHF7zgcBC47"
   },
   "outputs": [
    {
     "ename": "NameError",
     "evalue": "name 'annotation' is not defined",
     "output_type": "error",
     "traceback": [
      "\u001b[0;31m---------------------------------------------------------------------------\u001b[0m",
      "\u001b[0;31mNameError\u001b[0m                                 Traceback (most recent call last)",
      "\u001b[0;32m<ipython-input-39-6d4c7219fedf>\u001b[0m in \u001b[0;36m<module>\u001b[0;34m\u001b[0m\n\u001b[0;32m----> 1\u001b[0;31m \u001b[0mannotation\u001b[0m\u001b[0;34m.\u001b[0m\u001b[0mcontained_labels\u001b[0m\u001b[0;34m\u001b[0m\u001b[0m\n\u001b[0m\u001b[1;32m      2\u001b[0m \u001b[0mannotation\u001b[0m\u001b[0;34m.\u001b[0m\u001b[0mget_label_fields\u001b[0m\u001b[0;34m(\u001b[0m\u001b[0;34m)\u001b[0m\u001b[0;34m\u001b[0m\u001b[0m\n\u001b[1;32m      3\u001b[0m \u001b[0mannotation\u001b[0m\u001b[0;34m.\u001b[0m\u001b[0msymbol\u001b[0m\u001b[0;34m[\u001b[0m\u001b[0;34m:\u001b[0m\u001b[0;36m10\u001b[0m\u001b[0;34m]\u001b[0m\u001b[0;34m\u001b[0m\u001b[0m\n",
      "\u001b[0;31mNameError\u001b[0m: name 'annotation' is not defined"
     ]
    }
   ],
   "source": [
    "annotation.contained_labels\n",
    "annotation.get_label_fields()\n",
    "annotation.symbol[:10]"
   ]
  },
  {
   "cell_type": "code",
   "execution_count": 33,
   "metadata": {
    "colab": {},
    "colab_type": "code",
    "id": "a2bsdzJMBC49"
   },
   "outputs": [
    {
     "ename": "NameError",
     "evalue": "name 'annotation' is not defined",
     "output_type": "error",
     "traceback": [
      "\u001b[0;31m---------------------------------------------------------------------------\u001b[0m",
      "\u001b[0;31mNameError\u001b[0m                                 Traceback (most recent call last)",
      "\u001b[0;32m<ipython-input-33-e027ae3d0515>\u001b[0m in \u001b[0;36m<module>\u001b[0;34m\u001b[0m\n\u001b[0;32m----> 1\u001b[0;31m \u001b[0mannotation\u001b[0m\u001b[0;34m.\u001b[0m\u001b[0mcontained_labels\u001b[0m\u001b[0;34m\u001b[0m\u001b[0m\n\u001b[0m",
      "\u001b[0;31mNameError\u001b[0m: name 'annotation' is not defined"
     ]
    }
   ],
   "source": [
    "annotation.contained_labels"
   ]
  },
  {
   "cell_type": "code",
   "execution_count": 0,
   "metadata": {
    "colab": {},
    "colab_type": "code",
    "id": "Gegw2VSPBC4-"
   },
   "outputs": [],
   "source": [
    "annotation.get_label_fields()"
   ]
  },
  {
   "cell_type": "code",
   "execution_count": 0,
   "metadata": {
    "colab": {},
    "colab_type": "code",
    "id": "ABvU0IV6BC5A"
   },
   "outputs": [],
   "source": [
    "annotation.symbol[:10]"
   ]
  },
  {
   "cell_type": "code",
   "execution_count": 0,
   "metadata": {
    "colab": {},
    "colab_type": "code",
    "id": "7TuV8Gz-BC5C"
   },
   "outputs": [],
   "source": [
    "labels = np.array(annotation.symbol)\n",
    "intervals = np.array(annotation.sample)"
   ]
  },
  {
   "cell_type": "code",
   "execution_count": 0,
   "metadata": {
    "colab": {},
    "colab_type": "code",
    "id": "cuMDnr37BC5E"
   },
   "outputs": [],
   "source": [
    "apnea_idx = np.where(labels=='A')    "
   ]
  },
  {
   "cell_type": "code",
   "execution_count": 0,
   "metadata": {
    "colab": {},
    "colab_type": "code",
    "id": "2W702T6IBC5G"
   },
   "outputs": [],
   "source": [
    "apnea_idx"
   ]
  },
  {
   "cell_type": "code",
   "execution_count": 0,
   "metadata": {
    "colab": {},
    "colab_type": "code",
    "id": "aT3p_AZjBC5H"
   },
   "outputs": [],
   "source": [
    "apnea_intervals = intervals[apnea_idx]"
   ]
  },
  {
   "cell_type": "code",
   "execution_count": 0,
   "metadata": {
    "colab": {},
    "colab_type": "code",
    "id": "plsVYEwLBC5I"
   },
   "outputs": [],
   "source": [
    "record[0]\n"
   ]
  },
  {
   "cell_type": "code",
   "execution_count": 41,
   "metadata": {
    "colab": {},
    "colab_type": "code",
    "id": "tvJEMBnzBC5J"
   },
   "outputs": [
    {
     "name": "stderr",
     "output_type": "stream",
     "text": [
      "/Library/Frameworks/Python.framework/Versions/3.6/lib/python3.6/site-packages/tensorflow/python/framework/dtypes.py:526: FutureWarning: Passing (type, 1) or '1type' as a synonym of type is deprecated; in a future version of numpy, it will be understood as (type, (1,)) / '(1,)type'.\n",
      "  _np_qint8 = np.dtype([(\"qint8\", np.int8, 1)])\n",
      "/Library/Frameworks/Python.framework/Versions/3.6/lib/python3.6/site-packages/tensorflow/python/framework/dtypes.py:527: FutureWarning: Passing (type, 1) or '1type' as a synonym of type is deprecated; in a future version of numpy, it will be understood as (type, (1,)) / '(1,)type'.\n",
      "  _np_quint8 = np.dtype([(\"quint8\", np.uint8, 1)])\n",
      "/Library/Frameworks/Python.framework/Versions/3.6/lib/python3.6/site-packages/tensorflow/python/framework/dtypes.py:528: FutureWarning: Passing (type, 1) or '1type' as a synonym of type is deprecated; in a future version of numpy, it will be understood as (type, (1,)) / '(1,)type'.\n",
      "  _np_qint16 = np.dtype([(\"qint16\", np.int16, 1)])\n",
      "/Library/Frameworks/Python.framework/Versions/3.6/lib/python3.6/site-packages/tensorflow/python/framework/dtypes.py:529: FutureWarning: Passing (type, 1) or '1type' as a synonym of type is deprecated; in a future version of numpy, it will be understood as (type, (1,)) / '(1,)type'.\n",
      "  _np_quint16 = np.dtype([(\"quint16\", np.uint16, 1)])\n",
      "/Library/Frameworks/Python.framework/Versions/3.6/lib/python3.6/site-packages/tensorflow/python/framework/dtypes.py:530: FutureWarning: Passing (type, 1) or '1type' as a synonym of type is deprecated; in a future version of numpy, it will be understood as (type, (1,)) / '(1,)type'.\n",
      "  _np_qint32 = np.dtype([(\"qint32\", np.int32, 1)])\n",
      "/Library/Frameworks/Python.framework/Versions/3.6/lib/python3.6/site-packages/tensorflow/python/framework/dtypes.py:535: FutureWarning: Passing (type, 1) or '1type' as a synonym of type is deprecated; in a future version of numpy, it will be understood as (type, (1,)) / '(1,)type'.\n",
      "  np_resource = np.dtype([(\"resource\", np.ubyte, 1)])\n"
     ]
    }
   ],
   "source": [
    "import tensorflow as tf\n"
   ]
  },
  {
   "cell_type": "code",
   "execution_count": 43,
   "metadata": {
    "colab": {},
    "colab_type": "code",
    "id": "N2ADE1GoDiAQ"
   },
   "outputs": [],
   "source": [
    "model = tf.keras.models.Sequential([\n",
    "  tf.keras.layers.Flatten(input_shape=(28, 28)),\n",
    "  tf.keras.layers.Dense(128, activation='relu'),\n",
    "  tf.keras.layers.Dropout(0.2),\n",
    "  tf.keras.layers.Dense(10, activation='softmax')\n",
    "])\n",
    "\n",
    "model.compile(optimizer='adam',\n",
    "              loss='sparse_categorical_crossentropy',\n",
    "              metrics=['accuracy'])\n"
   ]
  },
  {
   "cell_type": "code",
   "execution_count": 44,
   "metadata": {
    "colab": {},
    "colab_type": "code",
    "id": "Q4jItEqZD7ah"
   },
   "outputs": [
    {
     "ename": "NameError",
     "evalue": "name 'x_train' is not defined",
     "output_type": "error",
     "traceback": [
      "\u001b[0;31m---------------------------------------------------------------------------\u001b[0m",
      "\u001b[0;31mNameError\u001b[0m                                 Traceback (most recent call last)",
      "\u001b[0;32m<ipython-input-44-39e86978938a>\u001b[0m in \u001b[0;36m<module>\u001b[0;34m\u001b[0m\n\u001b[0;32m----> 1\u001b[0;31m \u001b[0mmodel\u001b[0m\u001b[0;34m.\u001b[0m\u001b[0mfit\u001b[0m\u001b[0;34m(\u001b[0m\u001b[0mx_train\u001b[0m\u001b[0;34m,\u001b[0m \u001b[0my_train\u001b[0m\u001b[0;34m,\u001b[0m \u001b[0mepochs\u001b[0m\u001b[0;34m=\u001b[0m\u001b[0;36m5\u001b[0m\u001b[0;34m)\u001b[0m\u001b[0;34m\u001b[0m\u001b[0m\n\u001b[0m\u001b[1;32m      2\u001b[0m \u001b[0;34m\u001b[0m\u001b[0m\n\u001b[1;32m      3\u001b[0m \u001b[0mmodel\u001b[0m\u001b[0;34m.\u001b[0m\u001b[0mevaluate\u001b[0m\u001b[0;34m(\u001b[0m\u001b[0mx_test\u001b[0m\u001b[0;34m,\u001b[0m  \u001b[0my_test\u001b[0m\u001b[0;34m,\u001b[0m \u001b[0mverbose\u001b[0m\u001b[0;34m=\u001b[0m\u001b[0;36m2\u001b[0m\u001b[0;34m)\u001b[0m\u001b[0;34m\u001b[0m\u001b[0m\n",
      "\u001b[0;31mNameError\u001b[0m: name 'x_train' is not defined"
     ]
    }
   ],
   "source": [
    "model.fit(x_train, y_train, epochs=5)\n",
    "\n",
    "model.evaluate(x_test,  y_test, verbose=2)\n"
   ]
  },
  {
   "cell_type": "code",
   "execution_count": 0,
   "metadata": {
    "colab": {},
    "colab_type": "code",
    "id": "AWJY24mvHarq"
   },
   "outputs": [],
   "source": [
    "BATCH_SIZE = 64\n",
    "SHUFFLE_BUFFER_SIZE = 100\n",
    "\n",
    "train_dataset = train_dataset.shuffle(SHUFFLE_BUFFER_SIZE).batch(BATCH_SIZE)\n",
    "test_dataset = test_dataset.batch(BATCH_SIZE)"
   ]
  }
 ],
 "metadata": {
  "colab": {
   "collapsed_sections": [],
   "name": "Baseline.ipynb",
   "provenance": [],
   "toc_visible": true
  },
  "kernelspec": {
   "display_name": "Python 3",
   "language": "python",
   "name": "python3"
  },
  "language_info": {
   "codemirror_mode": {
    "name": "ipython",
    "version": 3
   },
   "file_extension": ".py",
   "mimetype": "text/x-python",
   "name": "python",
   "nbconvert_exporter": "python",
   "pygments_lexer": "ipython3",
   "version": "3.6.0"
  }
 },
 "nbformat": 4,
 "nbformat_minor": 1
}
